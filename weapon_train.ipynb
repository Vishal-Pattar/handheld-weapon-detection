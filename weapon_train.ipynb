{
 "cells": [
  {
   "cell_type": "code",
   "execution_count": 1,
   "metadata": {},
   "outputs": [],
   "source": [
    "import os\n",
    "import json\n",
    "import numpy as np\n",
    "import pandas as pd\n",
    "from sklearn.model_selection import train_test_split\n",
    "from tensorflow.keras.preprocessing.image import load_img, img_to_array\n",
    "from tensorflow.keras.utils import to_categorical\n",
    "from tensorflow.keras.models import Sequential\n",
    "from tensorflow.keras.layers import Conv2D, MaxPooling2D, Flatten, Dense, Dropout\n",
    "import matplotlib.pyplot as plt"
   ]
  },
  {
   "cell_type": "code",
   "execution_count": 2,
   "metadata": {},
   "outputs": [],
   "source": [
    "data_dir = 'data'\n",
    "image_dir = os.path.join(data_dir, 'images')\n",
    "annotation_dir = os.path.join(data_dir, 'annotation')\n",
    "\n",
    "train_image_dir = os.path.join(image_dir, 'train')\n",
    "test_image_dir = os.path.join(image_dir, 'test')\n",
    "\n",
    "train_annotation_dir = os.path.join(annotation_dir, 'train')\n",
    "test_annotation_dir = os.path.join(annotation_dir, 'test')"
   ]
  },
  {
   "cell_type": "code",
   "execution_count": 3,
   "metadata": {},
   "outputs": [],
   "source": [
    "def load_data(image_dir, annotation_dir):\n",
    "    images = []\n",
    "    labels = []\n",
    "    class_map = {}\n",
    "    class_index = 0\n",
    "\n",
    "    for filename in os.listdir(image_dir):\n",
    "        if filename.endswith('.jpg') or filename.endswith('.png'):\n",
    "            image_path = os.path.join(image_dir, filename)\n",
    "            annotation_path = os.path.join(annotation_dir, filename.replace('.jpg', '.json').replace('.png', '.json'))\n",
    "            \n",
    "            image = load_img(image_path, target_size=(224, 224))\n",
    "            image = img_to_array(image) / 255.0\n",
    "            images.append(image)\n",
    "            \n",
    "            with open(annotation_path, 'r') as f:\n",
    "                annotation = json.load(f)\n",
    "                label = annotation['class']\n",
    "                \n",
    "                if label not in class_map:\n",
    "                    class_map[label] = class_index\n",
    "                    class_index += 1\n",
    "                \n",
    "                labels.append(class_map[label])\n",
    "    \n",
    "    images = np.array(images)\n",
    "    labels = np.array(labels)\n",
    "    \n",
    "    return images, labels, class_map"
   ]
  },
  {
   "cell_type": "code",
   "execution_count": 4,
   "metadata": {},
   "outputs": [],
   "source": [
    "train_images, train_labels, class_map = load_data(train_image_dir, train_annotation_dir)\n",
    "test_images, test_labels, _ = load_data(test_image_dir, test_annotation_dir)\n",
    "\n",
    "num_classes = len(class_map)\n",
    "train_labels = to_categorical(train_labels, num_classes)\n",
    "test_labels = to_categorical(test_labels, num_classes)\n",
    "\n",
    "train_images, val_images, train_labels, val_labels = train_test_split(train_images, train_labels, test_size=0.2, random_state=42)"
   ]
  },
  {
   "cell_type": "code",
   "execution_count": 5,
   "metadata": {},
   "outputs": [],
   "source": [
    "model = Sequential([\n",
    "    Conv2D(32, (3, 3), activation='relu', input_shape=(224, 224, 3)),\n",
    "    MaxPooling2D((2, 2)),\n",
    "    Conv2D(64, (3, 3), activation='relu'),\n",
    "    MaxPooling2D((2, 2)),\n",
    "    Flatten(),\n",
    "    Dense(128, activation='relu'),\n",
    "    Dropout(0.5),\n",
    "    Dense(num_classes, activation='softmax')\n",
    "])\n",
    "\n",
    "model.compile(optimizer='adam', loss='categorical_crossentropy', metrics=['accuracy'])"
   ]
  },
  {
   "cell_type": "code",
   "execution_count": 6,
   "metadata": {},
   "outputs": [
    {
     "data": {
      "text/plain": [
       "array([[0., 1., 0.],\n",
       "       [0., 1., 0.],\n",
       "       [1., 0., 0.],\n",
       "       ...,\n",
       "       [0., 0., 1.],\n",
       "       [0., 0., 1.],\n",
       "       [1., 0., 0.]], dtype=float32)"
      ]
     },
     "execution_count": 6,
     "metadata": {},
     "output_type": "execute_result"
    }
   ],
   "source": [
    "train_labels"
   ]
  },
  {
   "cell_type": "code",
   "execution_count": 7,
   "metadata": {},
   "outputs": [
    {
     "name": "stdout",
     "output_type": "stream",
     "text": [
      "Epoch 1/10\n",
      "121/121 [==============================] - 36s 294ms/step - loss: 0.9850 - accuracy: 0.6125 - val_loss: 0.5963 - val_accuracy: 0.7464\n",
      "Epoch 2/10\n",
      "121/121 [==============================] - 39s 319ms/step - loss: 0.4984 - accuracy: 0.7976 - val_loss: 0.5220 - val_accuracy: 0.7930\n",
      "Epoch 3/10\n",
      "121/121 [==============================] - 35s 292ms/step - loss: 0.3467 - accuracy: 0.8695 - val_loss: 0.5317 - val_accuracy: 0.7878\n",
      "Epoch 4/10\n",
      "121/121 [==============================] - 36s 294ms/step - loss: 0.2307 - accuracy: 0.9151 - val_loss: 0.5419 - val_accuracy: 0.7992\n",
      "Epoch 5/10\n",
      "121/121 [==============================] - 35s 289ms/step - loss: 0.1520 - accuracy: 0.9500 - val_loss: 0.6194 - val_accuracy: 0.7971\n",
      "Epoch 6/10\n",
      "121/121 [==============================] - 35s 289ms/step - loss: 0.1216 - accuracy: 0.9588 - val_loss: 0.6420 - val_accuracy: 0.8033\n",
      "Epoch 7/10\n",
      "121/121 [==============================] - 35s 291ms/step - loss: 0.0922 - accuracy: 0.9713 - val_loss: 0.7405 - val_accuracy: 0.7867\n",
      "Epoch 8/10\n",
      "121/121 [==============================] - 36s 297ms/step - loss: 0.0651 - accuracy: 0.9811 - val_loss: 0.7712 - val_accuracy: 0.7950\n",
      "Epoch 9/10\n",
      "121/121 [==============================] - 36s 294ms/step - loss: 0.0507 - accuracy: 0.9847 - val_loss: 0.8427 - val_accuracy: 0.8043\n",
      "Epoch 10/10\n",
      "121/121 [==============================] - 35s 293ms/step - loss: 0.0578 - accuracy: 0.9819 - val_loss: 0.8516 - val_accuracy: 0.7878\n"
     ]
    }
   ],
   "source": [
    "history = model.fit(train_images, train_labels, epochs=10, batch_size=32, validation_data=(val_images, val_labels))"
   ]
  },
  {
   "cell_type": "code",
   "execution_count": 8,
   "metadata": {},
   "outputs": [],
   "source": [
    "model.save('Weapon-model-v1-1-1.keras')"
   ]
  },
  {
   "cell_type": "code",
   "execution_count": 9,
   "metadata": {},
   "outputs": [
    {
     "name": "stdout",
     "output_type": "stream",
     "text": [
      "26/26 [==============================] - 2s 63ms/step - loss: 1.2041 - accuracy: 0.7150\n",
      "Test Accuracy: 0.71\n"
     ]
    },
    {
     "data": {
      "image/png": "[encoded data removed]",
      "text/plain": [
       "<Figure size 640x480 with 1 Axes>"
      ]
     },
     "metadata": {},
     "output_type": "display_data"
    }
   ],
   "source": [
    "test_loss, test_accuracy = model.evaluate(test_images, test_labels)\n",
    "print(f'Test Accuracy: {test_accuracy:.2f}')\n",
    "\n",
    "plt.plot(history.history['accuracy'], label='accuracy')\n",
    "plt.plot(history.history['val_accuracy'], label='val_accuracy')\n",
    "plt.xlabel('Epoch')\n",
    "plt.ylabel('Accuracy')\n",
    "plt.legend()\n",
    "plt.show()"
   ]
  }
 ],
 "metadata": {
  "kernelspec": {
   "display_name": "Python 3",
   "language": "python",
   "name": "python3"
  },
  "language_info": {
   "codemirror_mode": {
    "name": "ipython",
    "version": 3
   },
   "file_extension": ".py",
   "mimetype": "text/x-python",
   "name": "python",
   "nbconvert_exporter": "python",
   "pygments_lexer": "ipython3",
   "version": "3.11.5"
  }
 },
 "nbformat": 4,
 "nbformat_minor": 2
}
